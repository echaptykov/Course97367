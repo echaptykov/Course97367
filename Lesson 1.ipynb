{
 "cells": [
  {
   "cell_type": "markdown",
   "metadata": {},
   "source": [
    "Домашнее задание к уроку 1"
   ]
  },
  {
   "cell_type": "code",
   "execution_count": 1,
   "metadata": {},
   "outputs": [],
   "source": [
    "import numpy as np\n",
    "\n",
    "def calc_mse(y, y_pred):\n",
    "    err = np.mean((y - y_pred)**2)\n",
    "    return err"
   ]
  },
  {
   "cell_type": "code",
   "execution_count": 70,
   "metadata": {},
   "outputs": [],
   "source": [
    "X = np.array([[ 1,  1],\n",
    "              [ 1,  1],\n",
    "              [ 1,  2],\n",
    "              [ 1,  5],\n",
    "              [ 1,  3],\n",
    "              [ 1,  0],\n",
    "              [ 1,  5],\n",
    "              [ 1, 10],\n",
    "              [ 1,  1],\n",
    "              [ 1,  2]])\n",
    "\n",
    "y = [45, 55, 50, 55, 60, 35, 75, 80, 50, 60]"
   ]
  },
  {
   "cell_type": "markdown",
   "metadata": {},
   "source": [
    "Задание 1 Подберите скорость обучения (eta) и количество итераций"
   ]
  },
  {
   "cell_type": "code",
   "execution_count": 76,
   "metadata": {},
   "outputs": [
    {
     "name": "stdout",
     "output_type": "stream",
     "text": [
      "Number of objects = 10        \n",
      "Learning rate = 0.01        \n",
      "Initial weights = [1.  0.5] \n",
      "\n",
      "Iteration #0: W_new = [2.08 4.27], MSE = 3047.75\n",
      "Iteration #10: W_new = [ 6.67106886 10.61676385], MSE = 749.71\n",
      "Iteration #20: W_new = [ 9.49320908 10.25731657], MSE = 648.91\n",
      "Iteration #30: W_new = [11.85740092  9.83349244], MSE = 570.46\n",
      "Iteration #40: W_new = [13.86876921  9.46898661], MSE = 508.03\n",
      "Iteration #50: W_new = [15.59085668  9.15672679], MSE = 457.73\n",
      "Iteration #60: W_new = [17.07337653  8.88789585], MSE = 416.77\n",
      "Iteration #70: W_new = [18.35601294  8.65530964], MSE = 383.06\n",
      "Iteration #80: W_new = [19.47073522  8.45317196], MSE = 355.08\n",
      "Iteration #90: W_new = [20.44350656  8.27677488], MSE = 331.65\n"
     ]
    }
   ],
   "source": [
    "n = X.shape[0]\n",
    "\n",
    "eta = 1e-2 \n",
    "n_iter = 100\n",
    "\n",
    "W = np.array([1, 0.5])\n",
    "print(f'Number of objects = {n} \\\n",
    "       \\nLearning rate = {eta} \\\n",
    "       \\nInitial weights = {W} \\n')\n",
    "\n",
    "for i in range(n_iter):\n",
    "    y_pred = np.dot(X, W)\n",
    "    err = calc_mse(y, y_pred)\n",
    "    for k in range(W.shape[0]):\n",
    "        W[k] -= eta * (1/n * 2 * X[:, k] @ (y_pred - y))\n",
    "    if i % 10 == 0:\n",
    "        eta /= 1.1\n",
    "        print(f'Iteration #{i}: W_new = {W}, MSE = {round(err, 2)}')"
   ]
  },
  {
   "cell_type": "markdown",
   "metadata": {},
   "source": [
    "eta = 1e-2 n_iter = 1000 MSE 175.6\n",
    "eta = 1e-3 n_iter = 100 MSE 828.76\n",
    "eta = 1e-3 n_iter = 1000 MSE 739.27\n",
    "eta = 0.1 n_iter = 100 MSE 31317286806394.04"
   ]
  },
  {
   "cell_type": "markdown",
   "metadata": {},
   "source": [
    "Задание 2 В этом коде мы избавляемся от итераций по весам, но тут есть ошибка, исправьте ее"
   ]
  },
  {
   "cell_type": "code",
   "execution_count": 78,
   "metadata": {
    "scrolled": true
   },
   "outputs": [
    {
     "name": "stdout",
     "output_type": "stream",
     "text": [
      "Number of objects = 10        \n",
      "Learning rate = 0.01        \n",
      "Initial weights = [1.  0.5] \n",
      "\n",
      "Iteration #0: W_new = [2.08 4.27], MSE = 3047.75\n",
      "Iteration #10: W_new = [ 6.67106886 10.61676385], MSE = 749.71\n",
      "Iteration #20: W_new = [ 9.49320908 10.25731657], MSE = 648.91\n",
      "Iteration #30: W_new = [11.85740092  9.83349244], MSE = 570.46\n",
      "Iteration #40: W_new = [13.86876921  9.46898661], MSE = 508.03\n",
      "Iteration #50: W_new = [15.59085668  9.15672679], MSE = 457.73\n",
      "Iteration #60: W_new = [17.07337653  8.88789585], MSE = 416.77\n",
      "Iteration #70: W_new = [18.35601294  8.65530964], MSE = 383.06\n",
      "Iteration #80: W_new = [19.47073522  8.45317196], MSE = 355.08\n",
      "Iteration #90: W_new = [20.44350656  8.27677488], MSE = 331.65\n"
     ]
    }
   ],
   "source": [
    "n = X.shape[0]\n",
    "\n",
    "eta = 1e-2 \n",
    "n_iter = 100\n",
    "\n",
    "Xt = X.T # ИЗМЕНЕНИЯ ЕВГЕНИЙ Вместо Х используем в формуле транспонированную матрицу Xt\n",
    "\n",
    "W = np.array([1, 0.5])\n",
    "print(f'Number of objects = {n} \\\n",
    "       \\nLearning rate = {eta} \\\n",
    "       \\nInitial weights = {W} \\n')\n",
    "\n",
    "for i in range(n_iter):\n",
    "    y_pred = np.dot(X, W)\n",
    "    err = calc_mse(y, y_pred)\n",
    "#     for k in range(W.shape[0]):\n",
    "#         W[k] -= eta * (1/n * 2 * X[:, k] @ (y_pred - y))\n",
    "    # ИЗМЕНЕНИЯ\n",
    "#    W -= eta * (1/n * 2 * np.dot(X, y_pred - y))\n",
    "    \n",
    "    # ИЗМЕНЕНИЯ ЕВГЕНИЙ X заменяем на Xt\n",
    "\n",
    "    W -= eta * (1/n * 2 * np.dot(Xt, y_pred - y))\n",
    "    #\n",
    "    if i % 10 == 0:\n",
    "        eta /= 1.1    # ИЗМЕНЕНИЯ ЕВГЕНИЙ - для сравнения с кодом в Задании 1\n",
    "        print(f'Iteration #{i}: W_new = {W}, MSE = {round(err,2)}')"
   ]
  },
  {
   "cell_type": "markdown",
   "metadata": {},
   "source": [
    "3. Вместо того, чтобы задавать количество итераций, задайте другое условие останова алгоритма - когда веса перестают изменяться меньше определенного порога эпсилон."
   ]
  },
  {
   "cell_type": "code",
   "execution_count": 99,
   "metadata": {},
   "outputs": [
    {
     "name": "stdout",
     "output_type": "stream",
     "text": [
      "Number of objects = 10        \n",
      "Learning rate = 0.01        \n",
      "Initial weights = [1.  0.5] \n",
      "\n",
      "Iteration #10: W_new = [ 6.64172205 10.62940003], Отклонение = 0.382\n",
      "Iteration #20: W_new = [10.02900674 10.16329008], Отклонение = 0.38\n",
      "Iteration #30: W_new = [13.09636548  9.60903915], Отклонение = 0.348\n",
      "Iteration #40: W_new = [15.89487851  9.10159809], Отклонение = 0.317\n",
      "Iteration #50: W_new = [18.44838865  8.63855875], Отклонение = 0.289\n",
      "Iteration #60: W_new = [20.77834901  8.21605636], Отклонение = 0.264\n",
      "Iteration #70: W_new = [22.90433054  7.83054239], Отклонение = 0.241\n",
      "Iteration #80: W_new = [24.84419078  7.47877865], Отклонение = 0.22\n",
      "Iteration #90: W_new = [26.61422391  7.15781043], Отклонение = 0.201\n",
      "Iteration #100: W_new = [28.22929764  6.86494171], Отклонение = 0.183\n",
      "Iteration #110: W_new = [29.70297804  6.59771249], Отклонение = 0.167\n",
      "Iteration #120: W_new = [31.04764353  6.35387814], Отклонение = 0.152\n",
      "Iteration #130: W_new = [32.27458888  6.13139052], Отклонение = 0.139\n",
      "Iteration #140: W_new = [33.39412     5.92838081], Отклонение = 0.127\n",
      "Iteration #150: W_new = [34.41564059  5.7431438 ], Отклонение = 0.116\n",
      "Iteration #160: W_new = [35.34773109  5.57412356], Отклонение = 0.106\n",
      "Iteration #170: W_new = [36.19822075  5.41990037], Отклонение = 0.096\n",
      "Iteration #180: W_new = [36.9742534   5.27917882], Отклонение = 0.088\n",
      "Iteration #190: W_new = [37.68234745  5.15077688], Отклонение = 0.08\n",
      "Iteration #200: W_new = [38.32845066  5.03361602], Отклонение = 0.073\n",
      "Iteration #210: W_new = [38.91799009  4.92671213], Отклонение = 0.067\n",
      "Iteration #220: W_new = [39.45591767  4.82916726], Отклонение = 0.061\n",
      "Iteration #230: W_new = [39.94675181  4.74016206], Отклонение = 0.056\n",
      "Iteration #240: W_new = [40.39461537  4.65894891], Отклонение = 0.051\n",
      "Iteration #250: W_new = [40.80327023  4.58484565], Отклонение = 0.046\n",
      "Iteration #260: W_new = [41.17614898  4.51722984], Отклонение = 0.042\n",
      "Iteration #270: W_new = [41.51638367  4.45553352], Отклонение = 0.039\n",
      "Iteration #280: W_new = [41.82683215  4.39923848], Отклонение = 0.035\n",
      "Iteration #290: W_new = [42.11010209  4.34787184], Отклонение = 0.032\n",
      "Iteration #300: W_new = [42.36857287  4.30100215], Отклонение = 0.029\n",
      "Iteration #310: W_new = [42.60441555  4.25823571], Отклонение = 0.027\n",
      "Iteration #320: W_new = [42.81961114  4.21921331], Отклонение = 0.024\n",
      "Iteration #330: W_new = [43.0159672   4.18360717], Отклонение = 0.022\n",
      "Iteration #340: W_new = [43.19513307  4.1511182 ], Отклонение = 0.02\n",
      "Iteration #342: W_new = [43.22903825  4.14497002], Отклонение = 0.02\n"
     ]
    }
   ],
   "source": [
    "# фунция вычисляет сумму абсолютных значений разниц весов (экспериментирую с NUMPY)\n",
    "\n",
    "def calc_epsilon(W, W_0):\n",
    "    epsilon = np.sum(np.absolute(W - W_0))\n",
    "    return epsilon\n",
    "\n",
    "n = X.shape[0]\n",
    "\n",
    "eta = 1e-2 \n",
    "n_iter = 100\n",
    "Xt = X.T # ИЗМЕНЕНИЯ ЕВГЕНИЙ Вместо Х используем в формуле транспонированную матрицу Xt\n",
    "𝜖 = 0.01 # Порог вычисления весов\n",
    "epsilon = 3 * 𝜖 # начальное значение отклонения по весам\n",
    "i = 0\n",
    "\n",
    "W = np.array([1, 0.5])\n",
    "\n",
    "\n",
    "print(f'Number of objects = {n} \\\n",
    "       \\nLearning rate = {eta} \\\n",
    "       \\nInitial weights = {W} \\n')\n",
    "\n",
    "while epsilon > (2 * 𝜖):      # Условие выхода - отклонение по весам меньше порога * 2\n",
    "\n",
    "    y_pred = np.dot(X, W)\n",
    "    W_0 = np.copy(W)\n",
    "    W -= eta * (1/n * 2 * np.dot(Xt, y_pred - y))\n",
    "    \n",
    "    epsilon = calc_epsilon(W,W_0)\n",
    "    i += 1\n",
    "    \n",
    "    if i % 10 == 0:\n",
    "        print(f'Iteration #{i}: W_new = {W}, Отклонение = {round(epsilon,3)}')\n",
    "        \n",
    "if i % 10 != 0:\n",
    "    print(f'Iteration #{i}: W_new = {W}, Отклонение = {round(epsilon,3)}')\n"
   ]
  }
 ],
 "metadata": {
  "kernelspec": {
   "display_name": "Python 3",
   "language": "python",
   "name": "python3"
  },
  "language_info": {
   "codemirror_mode": {
    "name": "ipython",
    "version": 3
   },
   "file_extension": ".py",
   "mimetype": "text/x-python",
   "name": "python",
   "nbconvert_exporter": "python",
   "pygments_lexer": "ipython3",
   "version": "3.7.6"
  }
 },
 "nbformat": 4,
 "nbformat_minor": 4
}
